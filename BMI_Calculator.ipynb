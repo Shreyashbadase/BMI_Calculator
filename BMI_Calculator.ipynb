{
  "nbformat": 4,
  "nbformat_minor": 0,
  "metadata": {
    "colab": {
      "name": "BMI_Calculator.ipynb",
      "provenance": [],
      "authorship_tag": "ABX9TyN8MiUpPM7OSADq6Mxzieqi",
      "include_colab_link": true
    },
    "kernelspec": {
      "name": "python3",
      "display_name": "Python 3"
    },
    "language_info": {
      "name": "python"
    }
  },
  "cells": [
    {
      "cell_type": "markdown",
      "metadata": {
        "id": "view-in-github",
        "colab_type": "text"
      },
      "source": [
        "<a href=\"https://colab.research.google.com/github/Shreyashbadase/BMI_Calculator/blob/main/BMI_Calculator.ipynb\" target=\"_parent\"><img src=\"https://colab.research.google.com/assets/colab-badge.svg\" alt=\"Open In Colab\"/></a>"
      ]
    },
    {
      "cell_type": "markdown",
      "source": [
        "BMI Calculator"
      ],
      "metadata": {
        "id": "AnpIMU2NZ5wd"
      }
    },
    {
      "cell_type": "code",
      "execution_count": 3,
      "metadata": {
        "colab": {
          "base_uri": "https://localhost:8080/"
        },
        "id": "emNpPrCsZvUA",
        "outputId": "3876a97c-5895-4108-e4b8-3aa5a599c5d3"
      },
      "outputs": [
        {
          "output_type": "stream",
          "name": "stdout",
          "text": [
            "Enter your height in centimeters: 158\n",
            "Enter your Weight in Kg: 50\n",
            "your Body Mass Index is:  20.028841531805796\n",
            "you are Healthy\n"
          ]
        }
      ],
      "source": [
        "Height=float(input(\"Enter your height in centimeters: \"))\n",
        "Weight=float(input(\"Enter your Weight in Kg: \"))\n",
        "Height = Height/100\n",
        "BMI=Weight/(Height*Height)\n",
        "print(\"your Body Mass Index is: \",BMI)\n",
        "if(BMI>0):\n",
        " if(BMI<=16):\n",
        "  print(\"you are severely underweight\")\n",
        " elif(BMI<=18.5):\n",
        "  print(\"you are underweight\")\n",
        " elif(BMI<=25):\n",
        "  print(\"you are Healthy\")\n",
        " elif(BMI<=30):\n",
        "  print(\"you are overweight\")\n",
        " else: print(\"you are severely overweight\")\n",
        "else:(\"enter valid details\")"
      ]
    }
  ]
}